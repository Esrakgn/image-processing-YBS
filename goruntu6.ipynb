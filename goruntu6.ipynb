{
 "cells": [
  {
   "cell_type": "code",
   "execution_count": 18,
   "id": "3e7fc962-fda3-4e0f-ba6f-05e532e8cb06",
   "metadata": {},
   "outputs": [],
   "source": [
    "import numpy as np \n",
    "import matplotlib.pyplot as plt \n",
    "import cv2"
   ]
  },
  {
   "cell_type": "code",
   "execution_count": 19,
   "id": "6e509c79-c4a2-4c13-a167-02d5d68b162c",
   "metadata": {},
   "outputs": [],
   "source": [
    "my_bgr_img = cv2.imread(\"./bonus.jpg\")\n",
    "my_gray_img = cv2.cvtColor(my_bgr_img, cv2.COLOR_BGR2GRAY)\n"
   ]
  },
  {
   "cell_type": "code",
   "execution_count": 20,
   "id": "046a881d-6fc4-4f23-b8d2-74cf6bd16025",
   "metadata": {},
   "outputs": [
    {
     "name": "stdout",
     "output_type": "stream",
     "text": [
      "<class 'numpy.ndarray'>\n",
      "<class 'numpy.ndarray'>\n"
     ]
    }
   ],
   "source": [
    "print(type(my_bgr_img))\n",
    "print(type(my_gray_img))"
   ]
  },
  {
   "cell_type": "code",
   "execution_count": 21,
   "id": "08348fe4-c62d-498e-8264-e50c183aeeb1",
   "metadata": {},
   "outputs": [],
   "source": [
    "#ilk olarak gri seviyedeki görüntünün eşiğini hesaplayarak binary hale getiriyoruz\n",
    "#bu sayede kenar tespitini en başarılı şekilde yapmak hedef\n",
    "\n",
    "#eşiklenmiş goruntuyu elde ettikten sonra konturlari bulmaya baslıyoruz\n",
    "#kontur bulma işleminde 2 adet değer dönüyor (anne / cocuk) bize lazım olan deger konturlarin listesi"
   ]
  },
  {
   "cell_type": "code",
   "execution_count": 29,
   "id": "c5cb5eb9-fe72-4f11-a9a3-5685d0292f16",
   "metadata": {},
   "outputs": [],
   "source": [
    "ret, thresh = cv2.threshold(my_gray_img,127,255, cv2.THRESH_BINARY_INV + cv2.THRESH_OTSU)\n",
    "thresh = cv2.morphologyEx(thresh, cv2.MORPH_CLOSE, np.ones((3,3),dtype=np.uint8) ,iterations=2)\n",
    "\n",
    "\n",
    "contour ,hierarchy= cv2.findContours(thresh, cv2.RETR_EXTERNAL, cv2.CHAIN_APPROX_SIMPLE)\n",
    "\n",
    "#drawcontours bir önceki aşamada elde edilen konturların listesini alır, onu renkli görüntü üzerine uygular\n",
    "#ve orijinal görüntü artık üzerindeki konturların elde edilmesiyle bitirilir\n",
    "\n",
    "contours, hierarchy = cv2.findContours(thresh, cv2.RETR_EXTERNAL, cv2.CHAIN_APPROX_SIMPLE)\n",
    "cv2.drawContours(my_bgr_img, contours, -1, (0,255,0), 2)\n",
    "\n",
    "\n",
    "cv2.imshow(\"Image's Contour\", my_bgr_img)\n",
    "cv2.imshow(\"thresh ımage\",thresh)\n",
    "cv2.waitKey(0)\n",
    "cv2.destroyAllWindows()"
   ]
  },
  {
   "cell_type": "code",
   "execution_count": null,
   "id": "4f3a68e6-4a84-4339-a758-1c267479e936",
   "metadata": {},
   "outputs": [],
   "source": [
    "model_pathh = 'haarcascade_frontalface_default.xml'\n",
    "\n",
    "face_cascades = cv2.CascadesClassifer(cv2.data.haarcascades + model_pathh)"
   ]
  },
  {
   "cell_type": "code",
   "execution_count": null,
   "id": "14045a2e-8556-4c45-b2fd-3b2f234477db",
   "metadata": {},
   "outputs": [],
   "source": []
  }
 ],
 "metadata": {
  "kernelspec": {
   "display_name": "env_ybs4",
   "language": "python",
   "name": "env_ybs4"
  },
  "language_info": {
   "codemirror_mode": {
    "name": "ipython",
    "version": 3
   },
   "file_extension": ".py",
   "mimetype": "text/x-python",
   "name": "python",
   "nbconvert_exporter": "python",
   "pygments_lexer": "ipython3",
   "version": "3.9.23"
  }
 },
 "nbformat": 4,
 "nbformat_minor": 5
}
