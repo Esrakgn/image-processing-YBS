{
 "cells": [
  {
   "cell_type": "code",
   "execution_count": 2,
   "id": "4d5eed97-b1dc-4a55-9b58-a9d78fc80e1b",
   "metadata": {},
   "outputs": [],
   "source": [
    "import numpy as np \n",
    "import cv2"
   ]
  },
  {
   "cell_type": "code",
   "execution_count": 5,
   "id": "d7d128ef-6a91-4aae-929d-8a37b49e25b2",
   "metadata": {},
   "outputs": [],
   "source": [
    "model_pathh = 'haarcascade_frontalface_default.xml'\n",
    "#Bu XML dosyası, önceden eğitilmiş bir yüz algılama modelidir.\n",
    "#OpenCV bunu kullanarak bir görüntüde yüz olup olmadığını anlar\n",
    "\n",
    "face_cascades = cv2.CascadeClassifier(cv2.data.haarcascades + model_pathh)\n",
    "\n",
    "my_bgr_img = cv2.imread(\"./deneme.jpg\")\n",
    "my_gray_img = cv2.imread(\"./deneme.jpg\",0)"
   ]
  },
  {
   "cell_type": "code",
   "execution_count": 12,
   "id": "969cf04a-1a4f-4965-b131-fc31c444e533",
   "metadata": {},
   "outputs": [
    {
     "name": "stdout",
     "output_type": "stream",
     "text": [
      "11 adet futbolcu tespit edildi\n"
     ]
    }
   ],
   "source": [
    "faces = face_cascades.detectMultiScale(\n",
    "    my_gray_img, scaleFactor= 1.1, minNeighbors =5, minSize = (5,5))\n",
    "\n",
    "sayac = 0\n",
    "\n",
    "for (x, y, w, h) in faces:\n",
    "    cv2.rectangle(my_bgr_img, (x, y), (x+w, y+h), (0, 255, 0), 2)\n",
    "    \n",
    "    sayac += 1\n",
    "print(f\"{sayac} adet futbolcu tespit edildi\")\n",
    "cv2.imshow(\"Futbolcular\", my_bgr_img)\n",
    "cv2.waitKey(0)\n",
    "cv2.destroyAllWindows()"
   ]
  },
  {
   "cell_type": "code",
   "execution_count": null,
   "id": "24c29912-3f71-47f7-bfcc-0489c32c8a20",
   "metadata": {},
   "outputs": [],
   "source": [
    "\n",
    "\n",
    "\n"
   ]
  },
  {
   "cell_type": "code",
   "execution_count": null,
   "id": "16139c60-3744-40fc-9b75-5de1b8b9c486",
   "metadata": {},
   "outputs": [],
   "source": []
  }
 ],
 "metadata": {
  "kernelspec": {
   "display_name": "env_ybs4",
   "language": "python",
   "name": "env_ybs4"
  },
  "language_info": {
   "codemirror_mode": {
    "name": "ipython",
    "version": 3
   },
   "file_extension": ".py",
   "mimetype": "text/x-python",
   "name": "python",
   "nbconvert_exporter": "python",
   "pygments_lexer": "ipython3",
   "version": "3.9.23"
  }
 },
 "nbformat": 4,
 "nbformat_minor": 5
}
